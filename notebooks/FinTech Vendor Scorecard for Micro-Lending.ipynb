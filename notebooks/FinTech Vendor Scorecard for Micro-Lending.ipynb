version https://git-lfs.github.com/spec/v1
oid sha256:29b9b4f3b7aee3ea95d2ef72288ef8c19d438fcb2d03cbc6182c5fd1dab5469c
size 26473
